{
 "cells": [
  {
   "cell_type": "code",
   "execution_count": 1,
   "metadata": {},
   "outputs": [],
   "source": [
    "import matplotlib.pyplot as plt\n",
    "import numpy as np\n",
    "import scipy.interpolate as sci"
   ]
  },
  {
   "cell_type": "markdown",
   "metadata": {},
   "source": [
    "## THE WHOLE STUDY (MEMBRANES) -- Considering nonlinear terms too"
   ]
  },
  {
   "cell_type": "markdown",
   "metadata": {},
   "source": [
    "Model from Book Senturia $$P =  \\Big(C_r \\Big[ \\frac{\\sigma_0 H}{L^2} \\Big] + C_b \\Big[ \\frac{E H^3}{(1-\\nu^2)L^4} \\Big] \\Big) Z + C_s \\cdot f_s(\\nu) \\Big[ \\frac{EH}{(1-\\nu^2) L^4}\\Big]Z^3$$\n",
    "\n",
    "We re-arrange terms to have the nonlinear term inside Z, and $C_s \\cdot f_s(\\nu) \\equiv C_s$\n",
    "\n",
    "\n",
    "$$P = \\frac{C_r H}{L^2} \\Big(\\sigma_0 + \\frac{C_b}{C_r} \\Big[ \\frac{E H^2}{(1-\\nu^2)L^2} \\Big] + \\frac{C_s}{C_r} \\Big[ \\frac{E}{(1-\\nu^2) L^2}\\Big]Z^2 \\Big) \\cdot Z$$\n",
    "\n",
    "$$P = \\frac{F}{Area} = \\frac{F}{2\\cdot \\frac{W}{\\sqrt{\\pi}} \\frac{L}{2} + \\big(\\frac{L}{2}\\big)^2 }$$\n",
    "\n",
    "$$F = Area \\cdot \\frac{C_r H}{L^2} \\Big(\\sigma_0 + \\frac{C_b}{C_r} \\Big[ \\frac{E H^2}{(1-\\nu^2)L^2} \\Big] + \\frac{C_s}{C_r} \\Big[ \\frac{E}{(1-\\nu^2) L^2}\\Big]Z^2 \\Big) \\cdot Z$$\n",
    "\n",
    "\n",
    "Calculate the frequency associated:\n",
    "\n",
    "To extract the $k = \\frac{d F}{d x}$:\n",
    "\n",
    "$$K = \\frac{d F}{d x} = Area \\cdot \\frac{C_r H}{L^2} \\Big(\\sigma_0 + \\frac{C_b}{C_r} \\Big[ \\frac{E H^2}{(1-\\nu^2)L^2} \\Big] + \\frac{3\\cdot C_s}{C_r} \\Big[ \\frac{E}{(1-\\nu^2) L^2}\\Big]Z^2 \\Big)$$\n",
    "\n",
    "$$Area \\cdot \\frac{C_r H}{L^2} \\Big(\\sigma_0 + \\frac{C_b}{C_r} \\Big[ \\frac{E H^2}{(1-\\nu^2)L^2} \\Big] + \\frac{3 \\cdot C_s}{C_r} \\Big[ \\frac{E}{(1-\\nu^2) L^2}\\Big]Z^2 \\Big) = (2 \\pi f_o)^2 m$$\n",
    "\n",
    "\n",
    "$$f_o = \\frac{1}{2\\pi} \\sqrt{\\frac{Area \\cdot C_r H}{m L^2} \\Big[\\sigma_0 + \\frac{C_b}{C_r} \\frac{E H^2}{(1-\\nu^2) L^2} + \\frac{3 \\cdot C_s}{C_r} \\frac{E}{(1-\\nu^2)L^2} Z^2 \\Big]}$$\n",
    "\n",
    "Here the displacement can be extracted from the same F = k Z equation:\n",
    "\n",
    "$$Z = \\frac{m \\cdot a}{Area \\cdot \\frac{C_r H}{L^2} \\Big[\\sigma_0 + \\frac{C_b}{C_r} \\Big[ \\frac{E H^2}{(1-\\nu^2)L^2} \\Big] + \\frac{3C_s}{C_r} \\Big[ \\frac{E}{(1-\\nu^2) L^2}\\Big]Z^2 \\Big]} \\rightarrow \\text{Solved with Newton-Raphson for every case}$$\n",
    "\n",
    "The FOM will be calculated using a numerical approach:\n",
    "\n",
    "$$FOM = \\frac{1}{f_R(g)}\\frac{f_R(g + \\Delta a)-f_R(g)}{\\Delta a}$$"
   ]
  },
  {
   "cell_type": "code",
   "execution_count": null,
   "metadata": {},
   "outputs": [],
   "source": []
  },
  {
   "cell_type": "code",
   "execution_count": null,
   "metadata": {},
   "outputs": [],
   "source": []
  },
  {
   "cell_type": "code",
   "execution_count": null,
   "metadata": {},
   "outputs": [],
   "source": []
  },
  {
   "cell_type": "code",
   "execution_count": null,
   "metadata": {},
   "outputs": [],
   "source": []
  },
  {
   "cell_type": "code",
   "execution_count": null,
   "metadata": {},
   "outputs": [],
   "source": []
  }
 ],
 "metadata": {
  "kernelspec": {
   "display_name": "Python 2",
   "language": "python",
   "name": "python2"
  },
  "language_info": {
   "codemirror_mode": {
    "name": "ipython",
    "version": 2
   },
   "file_extension": ".py",
   "mimetype": "text/x-python",
   "name": "python",
   "nbconvert_exporter": "python",
   "pygments_lexer": "ipython2",
   "version": "2.7.15"
  }
 },
 "nbformat": 4,
 "nbformat_minor": 2
}
